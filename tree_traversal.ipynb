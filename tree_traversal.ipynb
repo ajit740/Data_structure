{
 "cells": [
  {
   "cell_type": "markdown",
   "id": "5c1fcfc4",
   "metadata": {},
   "source": [
    "# Tree traversal program"
   ]
  },
  {
   "cell_type": "code",
   "execution_count": 2,
   "id": "f0259ffb",
   "metadata": {},
   "outputs": [
    {
     "name": "stdout",
     "output_type": "stream",
     "text": [
      "in-order-traversal:\n",
      "42513pre-order-traversal:\n",
      "12453post-order-traversal\n",
      "45231"
     ]
    }
   ],
   "source": [
    "class node:\n",
    "    def __init__(self,value):\n",
    "        self.left=None\n",
    "        self.right=None\n",
    "        self.value=value\n",
    "        \n",
    "def in_order_traversal(node):\n",
    "    if node:\n",
    "        in_order_traversal(node.left)\n",
    "        print(node.value,end=\"\")\n",
    "        in_order_traversal(node.right)\n",
    "        \n",
    "def pre_order_traversal(node):\n",
    "    if node:\n",
    "        print(node.value,end=\"\")\n",
    "        pre_order_traversal(node.left)\n",
    "        pre_order_traversal(node.right)\n",
    "        \n",
    "def post_order_traversal(node):\n",
    "    if node:\n",
    "        post_order_traversal(node.left)\n",
    "        post_order_traversal(node.right)\n",
    "        print(node.value,end=\"\")\n",
    "        \n",
    "#driver code\n",
    "\n",
    "if __name__=='__main__':\n",
    "    root=node(1)\n",
    "    root.left=node(2)\n",
    "    root.right=node(3)\n",
    "    root.left.left=node(4)\n",
    "    root.left.right=node(5)\n",
    "    \n",
    "    print(\"in-order-traversal:\")\n",
    "    in_order_traversal(root)\n",
    "    \n",
    "    print(\"pre-order-traversal:\")\n",
    "    pre_order_traversal(root)\n",
    "    \n",
    "    print(\"post-order-traversal\")\n",
    "    post_order_traversal(root)\n",
    "        \n",
    "\n",
    "        \n",
    "       "
   ]
  },
  {
   "cell_type": "code",
   "execution_count": null,
   "id": "3dd3b4d7",
   "metadata": {},
   "outputs": [],
   "source": []
  }
 ],
 "metadata": {
  "kernelspec": {
   "display_name": "Python 3 (ipykernel)",
   "language": "python",
   "name": "python3"
  },
  "language_info": {
   "codemirror_mode": {
    "name": "ipython",
    "version": 3
   },
   "file_extension": ".py",
   "mimetype": "text/x-python",
   "name": "python",
   "nbconvert_exporter": "python",
   "pygments_lexer": "ipython3",
   "version": "3.9.7"
  }
 },
 "nbformat": 4,
 "nbformat_minor": 5
}
